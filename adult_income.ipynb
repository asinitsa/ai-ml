{
  "nbformat": 4,
  "nbformat_minor": 0,
  "metadata": {
    "kernelspec": {
      "display_name": "Python 3",
      "language": "python",
      "name": "python3"
    },
    "language_info": {
      "codemirror_mode": {
        "name": "ipython",
        "version": 3
      },
      "file_extension": ".py",
      "mimetype": "text/x-python",
      "name": "python",
      "nbconvert_exporter": "python",
      "pygments_lexer": "ipython3",
      "version": "3.7.4"
    },
    "pycharm": {
      "stem_cell": {
        "cell_type": "raw",
        "source": [],
        "metadata": {
          "collapsed": false
        }
      }
    },
    "colab": {
      "name": "adult_income.ipynb",
      "provenance": []
    }
  },
  "cells": [
    {
      "cell_type": "markdown",
      "metadata": {
        "id": "iuznmu0TNU3j",
        "colab_type": "text"
      },
      "source": [
        "Adult income dataset http://archive.ics.uci.edu/ml/datasets/Adult <br>\n",
        "Data https://www.kaggle.com/uciml/adult-census-income or 'data/adult.csv'<br>\n",
        "Missing attribute values denoted by \"?\""
      ]
    },
    {
      "cell_type": "code",
      "metadata": {
        "pycharm": {
          "is_executing": false,
          "name": "#%%\n"
        },
        "id": "spF2HzbENU3m",
        "colab_type": "code",
        "colab": {}
      },
      "source": [
        "import pandas as pd\n",
        "import numpy as np\n",
        "\n",
        "adults = pd.read_csv('data/adult.csv')\n"
      ],
      "execution_count": 0,
      "outputs": []
    },
    {
      "cell_type": "code",
      "metadata": {
        "pycharm": {
          "name": "#%%\n",
          "is_executing": false
        },
        "id": "XobzUrK_NU3p",
        "colab_type": "code",
        "outputId": "370cd2f9-6702-40ce-e1d4-93ad8da5c388",
        "colab": {}
      },
      "source": [
        "from sklearn.model_selection import train_test_split\n",
        "Xtrain, Xtest, ytrain, ytest = train_test_split(adults.drop('income', 1), adults.income, random_state=2, test_size=0.3, stratify=adults.income)\n",
        "\n",
        "print(Xtrain.shape, Xtest.shape)\n"
      ],
      "execution_count": 0,
      "outputs": [
        {
          "output_type": "stream",
          "text": [
            "(22792, 14) (9769, 14)\n"
          ],
          "name": "stdout"
        }
      ]
    },
    {
      "cell_type": "code",
      "metadata": {
        "pycharm": {
          "name": "#%% \n",
          "is_executing": false
        },
        "id": "zqQxeBEHNU3r",
        "colab_type": "code",
        "outputId": "dc52aa0e-b544-4b71-923c-1ba8df102419",
        "colab": {}
      },
      "source": [
        "ytrain.head(3)"
      ],
      "execution_count": 0,
      "outputs": [
        {
          "output_type": "execute_result",
          "data": {
            "text/plain": [
              "31249     >50K\n",
              "19086    <=50K\n",
              "10615     >50K\n",
              "Name: income, dtype: object"
            ]
          },
          "metadata": {
            "tags": []
          },
          "execution_count": 28
        }
      ]
    },
    {
      "cell_type": "code",
      "metadata": {
        "pycharm": {
          "name": "#%%\n",
          "is_executing": false
        },
        "id": "wGf40jF1NU3t",
        "colab_type": "code",
        "outputId": "9b493d88-5c50-4a75-c8dc-5948a1e40368",
        "colab": {}
      },
      "source": [
        "Xtrain.head(3)"
      ],
      "execution_count": 0,
      "outputs": [
        {
          "output_type": "execute_result",
          "data": {
            "text/plain": [
              "       age         workclass  fnlwgt     education  education.num  \\\n",
              "31249   52         Local-gov  153312    Assoc-acdm             12   \n",
              "19086   19           Private  219300  Some-college             10   \n",
              "10615   44  Self-emp-not-inc  197558   Prof-school             15   \n",
              "\n",
              "           marital.status       occupation relationship   race     sex  \\\n",
              "31249  Married-civ-spouse  Protective-serv      Husband  White    Male   \n",
              "19086       Never-married            Sales    Own-child  White  Female   \n",
              "10615  Married-civ-spouse   Prof-specialty      Husband  White    Male   \n",
              "\n",
              "       capital.gain  capital.loss  hours.per.week native.country  \n",
              "31249             0             0              40  United-States  \n",
              "19086             0             0              25  United-States  \n",
              "10615             0             0              70  United-States  "
            ],
            "text/html": [
              "<div>\n",
              "<style scoped>\n",
              "    .dataframe tbody tr th:only-of-type {\n",
              "        vertical-align: middle;\n",
              "    }\n",
              "\n",
              "    .dataframe tbody tr th {\n",
              "        vertical-align: top;\n",
              "    }\n",
              "\n",
              "    .dataframe thead th {\n",
              "        text-align: right;\n",
              "    }\n",
              "</style>\n",
              "<table border=\"1\" class=\"dataframe\">\n",
              "  <thead>\n",
              "    <tr style=\"text-align: right;\">\n",
              "      <th></th>\n",
              "      <th>age</th>\n",
              "      <th>workclass</th>\n",
              "      <th>fnlwgt</th>\n",
              "      <th>education</th>\n",
              "      <th>education.num</th>\n",
              "      <th>marital.status</th>\n",
              "      <th>occupation</th>\n",
              "      <th>relationship</th>\n",
              "      <th>race</th>\n",
              "      <th>sex</th>\n",
              "      <th>capital.gain</th>\n",
              "      <th>capital.loss</th>\n",
              "      <th>hours.per.week</th>\n",
              "      <th>native.country</th>\n",
              "    </tr>\n",
              "  </thead>\n",
              "  <tbody>\n",
              "    <tr>\n",
              "      <th>31249</th>\n",
              "      <td>52</td>\n",
              "      <td>Local-gov</td>\n",
              "      <td>153312</td>\n",
              "      <td>Assoc-acdm</td>\n",
              "      <td>12</td>\n",
              "      <td>Married-civ-spouse</td>\n",
              "      <td>Protective-serv</td>\n",
              "      <td>Husband</td>\n",
              "      <td>White</td>\n",
              "      <td>Male</td>\n",
              "      <td>0</td>\n",
              "      <td>0</td>\n",
              "      <td>40</td>\n",
              "      <td>United-States</td>\n",
              "    </tr>\n",
              "    <tr>\n",
              "      <th>19086</th>\n",
              "      <td>19</td>\n",
              "      <td>Private</td>\n",
              "      <td>219300</td>\n",
              "      <td>Some-college</td>\n",
              "      <td>10</td>\n",
              "      <td>Never-married</td>\n",
              "      <td>Sales</td>\n",
              "      <td>Own-child</td>\n",
              "      <td>White</td>\n",
              "      <td>Female</td>\n",
              "      <td>0</td>\n",
              "      <td>0</td>\n",
              "      <td>25</td>\n",
              "      <td>United-States</td>\n",
              "    </tr>\n",
              "    <tr>\n",
              "      <th>10615</th>\n",
              "      <td>44</td>\n",
              "      <td>Self-emp-not-inc</td>\n",
              "      <td>197558</td>\n",
              "      <td>Prof-school</td>\n",
              "      <td>15</td>\n",
              "      <td>Married-civ-spouse</td>\n",
              "      <td>Prof-specialty</td>\n",
              "      <td>Husband</td>\n",
              "      <td>White</td>\n",
              "      <td>Male</td>\n",
              "      <td>0</td>\n",
              "      <td>0</td>\n",
              "      <td>70</td>\n",
              "      <td>United-States</td>\n",
              "    </tr>\n",
              "  </tbody>\n",
              "</table>\n",
              "</div>"
            ]
          },
          "metadata": {
            "tags": []
          },
          "execution_count": 29
        }
      ]
    },
    {
      "cell_type": "code",
      "metadata": {
        "pycharm": {
          "name": "#%%\n",
          "is_executing": false
        },
        "id": "1mXsUvVlNU3v",
        "colab_type": "code",
        "outputId": "6e8a6c2c-6297-4673-a21c-cfc30c7c3122",
        "colab": {}
      },
      "source": [
        "adults.head(3)"
      ],
      "execution_count": 0,
      "outputs": [
        {
          "output_type": "execute_result",
          "data": {
            "text/plain": [
              "   age workclass  fnlwgt     education  education.num marital.status  \\\n",
              "0   90         ?   77053       HS-grad              9        Widowed   \n",
              "1   82   Private  132870       HS-grad              9        Widowed   \n",
              "2   66         ?  186061  Some-college             10        Widowed   \n",
              "\n",
              "        occupation   relationship   race     sex  capital.gain  capital.loss  \\\n",
              "0                ?  Not-in-family  White  Female             0          4356   \n",
              "1  Exec-managerial  Not-in-family  White  Female             0          4356   \n",
              "2                ?      Unmarried  Black  Female             0          4356   \n",
              "\n",
              "   hours.per.week native.country income  \n",
              "0              40  United-States  <=50K  \n",
              "1              18  United-States  <=50K  \n",
              "2              40  United-States  <=50K  "
            ],
            "text/html": [
              "<div>\n",
              "<style scoped>\n",
              "    .dataframe tbody tr th:only-of-type {\n",
              "        vertical-align: middle;\n",
              "    }\n",
              "\n",
              "    .dataframe tbody tr th {\n",
              "        vertical-align: top;\n",
              "    }\n",
              "\n",
              "    .dataframe thead th {\n",
              "        text-align: right;\n",
              "    }\n",
              "</style>\n",
              "<table border=\"1\" class=\"dataframe\">\n",
              "  <thead>\n",
              "    <tr style=\"text-align: right;\">\n",
              "      <th></th>\n",
              "      <th>age</th>\n",
              "      <th>workclass</th>\n",
              "      <th>fnlwgt</th>\n",
              "      <th>education</th>\n",
              "      <th>education.num</th>\n",
              "      <th>marital.status</th>\n",
              "      <th>occupation</th>\n",
              "      <th>relationship</th>\n",
              "      <th>race</th>\n",
              "      <th>sex</th>\n",
              "      <th>capital.gain</th>\n",
              "      <th>capital.loss</th>\n",
              "      <th>hours.per.week</th>\n",
              "      <th>native.country</th>\n",
              "      <th>income</th>\n",
              "    </tr>\n",
              "  </thead>\n",
              "  <tbody>\n",
              "    <tr>\n",
              "      <th>0</th>\n",
              "      <td>90</td>\n",
              "      <td>?</td>\n",
              "      <td>77053</td>\n",
              "      <td>HS-grad</td>\n",
              "      <td>9</td>\n",
              "      <td>Widowed</td>\n",
              "      <td>?</td>\n",
              "      <td>Not-in-family</td>\n",
              "      <td>White</td>\n",
              "      <td>Female</td>\n",
              "      <td>0</td>\n",
              "      <td>4356</td>\n",
              "      <td>40</td>\n",
              "      <td>United-States</td>\n",
              "      <td>&lt;=50K</td>\n",
              "    </tr>\n",
              "    <tr>\n",
              "      <th>1</th>\n",
              "      <td>82</td>\n",
              "      <td>Private</td>\n",
              "      <td>132870</td>\n",
              "      <td>HS-grad</td>\n",
              "      <td>9</td>\n",
              "      <td>Widowed</td>\n",
              "      <td>Exec-managerial</td>\n",
              "      <td>Not-in-family</td>\n",
              "      <td>White</td>\n",
              "      <td>Female</td>\n",
              "      <td>0</td>\n",
              "      <td>4356</td>\n",
              "      <td>18</td>\n",
              "      <td>United-States</td>\n",
              "      <td>&lt;=50K</td>\n",
              "    </tr>\n",
              "    <tr>\n",
              "      <th>2</th>\n",
              "      <td>66</td>\n",
              "      <td>?</td>\n",
              "      <td>186061</td>\n",
              "      <td>Some-college</td>\n",
              "      <td>10</td>\n",
              "      <td>Widowed</td>\n",
              "      <td>?</td>\n",
              "      <td>Unmarried</td>\n",
              "      <td>Black</td>\n",
              "      <td>Female</td>\n",
              "      <td>0</td>\n",
              "      <td>4356</td>\n",
              "      <td>40</td>\n",
              "      <td>United-States</td>\n",
              "      <td>&lt;=50K</td>\n",
              "    </tr>\n",
              "  </tbody>\n",
              "</table>\n",
              "</div>"
            ]
          },
          "metadata": {
            "tags": []
          },
          "execution_count": 30
        }
      ]
    },
    {
      "cell_type": "code",
      "metadata": {
        "pycharm": {
          "name": "#%%\n",
          "is_executing": false
        },
        "id": "69WXCqh0NU3x",
        "colab_type": "code",
        "outputId": "8b3991fa-58f7-4aae-d309-2b307dc2d6f9",
        "colab": {}
      },
      "source": [
        "from sklearn import preprocessing\n",
        "factors_Xtrain = Xtrain[['workclass','education','marital.status', 'occupation', 'relationship', 'race', 'sex', 'native.country']]\n",
        "factors_Xtest = Xtest[['workclass','education','marital.status', 'occupation', 'relationship', 'race', 'sex', 'native.country']]\n",
        "\n",
        "\n",
        "enc = preprocessing.OneHotEncoder()\n",
        "enc.fit(factors_Xtrain)\n",
        "enc.categories_"
      ],
      "execution_count": 0,
      "outputs": [
        {
          "output_type": "execute_result",
          "data": {
            "text/plain": [
              "[array(['?', 'Federal-gov', 'Local-gov', 'Never-worked', 'Private',\n",
              "        'Self-emp-inc', 'Self-emp-not-inc', 'State-gov', 'Without-pay'],\n",
              "       dtype=object),\n",
              " array(['10th', '11th', '12th', '1st-4th', '5th-6th', '7th-8th', '9th',\n",
              "        'Assoc-acdm', 'Assoc-voc', 'Bachelors', 'Doctorate', 'HS-grad',\n",
              "        'Masters', 'Preschool', 'Prof-school', 'Some-college'],\n",
              "       dtype=object),\n",
              " array(['Divorced', 'Married-AF-spouse', 'Married-civ-spouse',\n",
              "        'Married-spouse-absent', 'Never-married', 'Separated', 'Widowed'],\n",
              "       dtype=object),\n",
              " array(['?', 'Adm-clerical', 'Armed-Forces', 'Craft-repair',\n",
              "        'Exec-managerial', 'Farming-fishing', 'Handlers-cleaners',\n",
              "        'Machine-op-inspct', 'Other-service', 'Priv-house-serv',\n",
              "        'Prof-specialty', 'Protective-serv', 'Sales', 'Tech-support',\n",
              "        'Transport-moving'], dtype=object),\n",
              " array(['Husband', 'Not-in-family', 'Other-relative', 'Own-child',\n",
              "        'Unmarried', 'Wife'], dtype=object),\n",
              " array(['Amer-Indian-Eskimo', 'Asian-Pac-Islander', 'Black', 'Other',\n",
              "        'White'], dtype=object),\n",
              " array(['Female', 'Male'], dtype=object),\n",
              " array(['?', 'Cambodia', 'Canada', 'China', 'Columbia', 'Cuba',\n",
              "        'Dominican-Republic', 'Ecuador', 'El-Salvador', 'England',\n",
              "        'France', 'Germany', 'Greece', 'Guatemala', 'Haiti',\n",
              "        'Holand-Netherlands', 'Honduras', 'Hong', 'Hungary', 'India',\n",
              "        'Iran', 'Ireland', 'Italy', 'Jamaica', 'Japan', 'Laos', 'Mexico',\n",
              "        'Nicaragua', 'Outlying-US(Guam-USVI-etc)', 'Peru', 'Philippines',\n",
              "        'Poland', 'Portugal', 'Puerto-Rico', 'Scotland', 'South', 'Taiwan',\n",
              "        'Thailand', 'Trinadad&Tobago', 'United-States', 'Vietnam',\n",
              "        'Yugoslavia'], dtype=object)]"
            ]
          },
          "metadata": {
            "tags": []
          },
          "execution_count": 31
        }
      ]
    },
    {
      "cell_type": "code",
      "metadata": {
        "pycharm": {
          "name": "#%%\n",
          "is_executing": false
        },
        "id": "wvb-cMscNU3z",
        "colab_type": "code",
        "outputId": "b9a4c485-5ff0-4e7c-bb96-1a9d25a0fddc",
        "colab": {}
      },
      "source": [
        "transform_Xtrain= enc.transform(factors_Xtrain).toarray()\n",
        "transform_Xtest= enc.transform(factors_Xtest).toarray()\n",
        "print(transform_Xtrain)\n",
        "print(transform_Xtest)\n"
      ],
      "execution_count": 0,
      "outputs": [
        {
          "output_type": "stream",
          "text": [
            "[[0. 0. 1. ... 1. 0. 0.]\n",
            " [0. 0. 0. ... 1. 0. 0.]\n",
            " [0. 0. 0. ... 1. 0. 0.]\n",
            " ...\n",
            " [0. 0. 0. ... 1. 0. 0.]\n",
            " [0. 0. 0. ... 1. 0. 0.]\n",
            " [0. 0. 0. ... 1. 0. 0.]]\n",
            "[[0. 0. 0. ... 1. 0. 0.]\n",
            " [0. 0. 0. ... 1. 0. 0.]\n",
            " [0. 0. 0. ... 1. 0. 0.]\n",
            " ...\n",
            " [0. 0. 0. ... 1. 0. 0.]\n",
            " [0. 0. 0. ... 1. 0. 0.]\n",
            " [0. 0. 0. ... 1. 0. 0.]]\n"
          ],
          "name": "stdout"
        }
      ]
    },
    {
      "cell_type": "code",
      "metadata": {
        "pycharm": {
          "name": "#%%\n",
          "is_executing": false
        },
        "id": "o4g78QPxNU31",
        "colab_type": "code",
        "outputId": "d99bc351-2c77-448b-90d1-a3126586af63",
        "colab": {}
      },
      "source": [
        "from sklearn.ensemble import GradientBoostingClassifier\n",
        "\n",
        "gbc = GradientBoostingClassifier(random_state = 2)\n",
        "\n",
        "gbc.fit(transform_Xtrain,ytrain)"
      ],
      "execution_count": 0,
      "outputs": [
        {
          "output_type": "execute_result",
          "data": {
            "text/plain": [
              "GradientBoostingClassifier(criterion='friedman_mse', init=None,\n",
              "                           learning_rate=0.1, loss='deviance', max_depth=3,\n",
              "                           max_features=None, max_leaf_nodes=None,\n",
              "                           min_impurity_decrease=0.0, min_impurity_split=None,\n",
              "                           min_samples_leaf=1, min_samples_split=2,\n",
              "                           min_weight_fraction_leaf=0.0, n_estimators=100,\n",
              "                           n_iter_no_change=None, presort='auto',\n",
              "                           random_state=2, subsample=1.0, tol=0.0001,\n",
              "                           validation_fraction=0.1, verbose=0,\n",
              "                           warm_start=False)"
            ]
          },
          "metadata": {
            "tags": []
          },
          "execution_count": 33
        }
      ]
    },
    {
      "cell_type": "code",
      "metadata": {
        "pycharm": {
          "name": "#%%\n",
          "is_executing": false
        },
        "id": "nPWwJpMhNU32",
        "colab_type": "code",
        "outputId": "13ba7552-c2b8-4367-bf0a-41e6c9cdf131",
        "colab": {}
      },
      "source": [
        "# Accuracy on train\n",
        "\n",
        "gbc.score(transform_Xtrain, ytrain)"
      ],
      "execution_count": 0,
      "outputs": [
        {
          "output_type": "execute_result",
          "data": {
            "text/plain": [
              "0.8342400842400842"
            ]
          },
          "metadata": {
            "tags": []
          },
          "execution_count": 34
        }
      ]
    },
    {
      "cell_type": "code",
      "metadata": {
        "pycharm": {
          "name": "#%%\n",
          "is_executing": false
        },
        "id": "BdMjyjJ4NU34",
        "colab_type": "code",
        "colab": {}
      },
      "source": [
        "# Accuracy on test\n",
        "gbc.score(transform_Xtest, ytest)"
      ],
      "execution_count": 0,
      "outputs": []
    },
    {
      "cell_type": "code",
      "metadata": {
        "pycharm": {
          "name": "#%%\n",
          "is_executing": false
        },
        "id": "LpgrPWrpNU36",
        "colab_type": "code",
        "outputId": "77a3383e-f527-4e70-f9a8-4b70ed7af69e",
        "colab": {}
      },
      "source": [
        "from sklearn.metrics import accuracy_score, confusion_matrix\n",
        "from sklearn.metrics import classification_report\n",
        "\n",
        "ypred_test = gbc.predict(transform_Xtest)\n",
        "print(confusion_matrix(ytest, ypred_test))"
      ],
      "execution_count": 0,
      "outputs": [
        {
          "output_type": "stream",
          "text": [
            "[[6860  557]\n",
            " [1105 1247]]\n"
          ],
          "name": "stdout"
        }
      ]
    },
    {
      "cell_type": "code",
      "metadata": {
        "pycharm": {
          "name": "#%%\n",
          "is_executing": false
        },
        "id": "KIKNScKlNU37",
        "colab_type": "code",
        "outputId": "20f1a0df-f503-4638-c17b-a8d762cb81eb",
        "colab": {}
      },
      "source": [
        "print(classification_report(ytest, ypred_test))"
      ],
      "execution_count": 0,
      "outputs": [
        {
          "output_type": "stream",
          "text": [
            "              precision    recall  f1-score   support\n",
            "\n",
            "       <=50K       0.86      0.92      0.89      7417\n",
            "        >50K       0.69      0.53      0.60      2352\n",
            "\n",
            "    accuracy                           0.83      9769\n",
            "   macro avg       0.78      0.73      0.75      9769\n",
            "weighted avg       0.82      0.83      0.82      9769\n",
            "\n"
          ],
          "name": "stdout"
        }
      ]
    }
  ]
}